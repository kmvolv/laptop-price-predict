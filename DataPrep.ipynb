{
 "cells": [
  {
   "cell_type": "code",
   "execution_count": 22,
   "id": "e8736e04",
   "metadata": {},
   "outputs": [],
   "source": [
    "import pandas as pd\n",
    "import re\n",
    "import numpy as np\n",
    "import matplotlib.pyplot as plt\n",
    "import seaborn as sns"
   ]
  },
  {
   "cell_type": "code",
   "execution_count": 23,
   "id": "78b3156a",
   "metadata": {},
   "outputs": [],
   "source": [
    "df = pd.read_csv('Scraper-Data.csv', index_col = 0)"
   ]
  },
  {
   "cell_type": "code",
   "execution_count": 25,
   "id": "0e8ad304",
   "metadata": {},
   "outputs": [
    {
     "data": {
      "text/html": [
       "<div>\n",
       "<style scoped>\n",
       "    .dataframe tbody tr th:only-of-type {\n",
       "        vertical-align: middle;\n",
       "    }\n",
       "\n",
       "    .dataframe tbody tr th {\n",
       "        vertical-align: top;\n",
       "    }\n",
       "\n",
       "    .dataframe thead th {\n",
       "        text-align: right;\n",
       "    }\n",
       "</style>\n",
       "<table border=\"1\" class=\"dataframe\">\n",
       "  <thead>\n",
       "    <tr style=\"text-align: right;\">\n",
       "      <th></th>\n",
       "      <th>id</th>\n",
       "      <th>Brand</th>\n",
       "      <th>Type</th>\n",
       "      <th>Suits</th>\n",
       "      <th>CPUbrand</th>\n",
       "      <th>HDD</th>\n",
       "      <th>SSD</th>\n",
       "      <th>GPUbrand</th>\n",
       "      <th>RAM</th>\n",
       "      <th>OS</th>\n",
       "      <th>Touchscreen</th>\n",
       "      <th>ScreenSize</th>\n",
       "      <th>Resolution</th>\n",
       "      <th>Weight</th>\n",
       "      <th>Price</th>\n",
       "    </tr>\n",
       "  </thead>\n",
       "  <tbody>\n",
       "    <tr>\n",
       "      <th>0</th>\n",
       "      <td>1</td>\n",
       "      <td>ACER</td>\n",
       "      <td>Gaming Laptop</td>\n",
       "      <td>Gaming</td>\n",
       "      <td>AMD Ryzen 5 Hexa Core</td>\n",
       "      <td>None</td>\n",
       "      <td>512 GB</td>\n",
       "      <td>NVIDIA GeForce GTX 1650</td>\n",
       "      <td>8 GB</td>\n",
       "      <td>Windows 11 Home</td>\n",
       "      <td>No</td>\n",
       "      <td>39.62 cm (15.6 inch)</td>\n",
       "      <td>1920 x 1080 Pixel</td>\n",
       "      <td>2.15 kg</td>\n",
       "      <td>₹45,990</td>\n",
       "    </tr>\n",
       "    <tr>\n",
       "      <th>1</th>\n",
       "      <td>2</td>\n",
       "      <td>REDMIBOOK</td>\n",
       "      <td>Thin and Light Laptop</td>\n",
       "      <td>Processing &amp; Multitasking</td>\n",
       "      <td>Intel Core i3 11th Gen</td>\n",
       "      <td>None</td>\n",
       "      <td>256 GB</td>\n",
       "      <td>Intel Integrated UHD</td>\n",
       "      <td>8 GB</td>\n",
       "      <td>Windows 11 Home</td>\n",
       "      <td>No</td>\n",
       "      <td>39.62 cm (15.6 inch)</td>\n",
       "      <td>1920 x 1080 Pixel</td>\n",
       "      <td>1.8 kg</td>\n",
       "      <td>₹29,999</td>\n",
       "    </tr>\n",
       "    <tr>\n",
       "      <th>2</th>\n",
       "      <td>3</td>\n",
       "      <td>ACER</td>\n",
       "      <td>Gaming Laptop</td>\n",
       "      <td>Entertainment, Everyday Use, Gaming, Performan...</td>\n",
       "      <td>AMD Ryzen 5 Hexa Core</td>\n",
       "      <td>None</td>\n",
       "      <td>512 GB</td>\n",
       "      <td>NVIDIA GeForce GTX 1650</td>\n",
       "      <td>16 GB</td>\n",
       "      <td>Windows 11 Home</td>\n",
       "      <td>No</td>\n",
       "      <td>39.62 cm (15.6 Inch)</td>\n",
       "      <td>1920 x 1080 Pixel</td>\n",
       "      <td>2.15 kg</td>\n",
       "      <td>₹49,990</td>\n",
       "    </tr>\n",
       "    <tr>\n",
       "      <th>3</th>\n",
       "      <td>4</td>\n",
       "      <td>ASUS</td>\n",
       "      <td>Thin and Light Laptop</td>\n",
       "      <td>Processing &amp; Multitasking</td>\n",
       "      <td>Intel Core i3 10th Gen</td>\n",
       "      <td>None</td>\n",
       "      <td>512 GB</td>\n",
       "      <td>Intel Integrated UHD</td>\n",
       "      <td>8 GB</td>\n",
       "      <td>Windows 11 Home</td>\n",
       "      <td>No</td>\n",
       "      <td>39.62 cm (15.6 inch)</td>\n",
       "      <td>1920 x 1080 Pixel</td>\n",
       "      <td>1.80 kg</td>\n",
       "      <td>₹35,990</td>\n",
       "    </tr>\n",
       "    <tr>\n",
       "      <th>4</th>\n",
       "      <td>5</td>\n",
       "      <td>HP</td>\n",
       "      <td>Notebook</td>\n",
       "      <td>Everyday Use</td>\n",
       "      <td>AMD Athlon Dual Core</td>\n",
       "      <td>None</td>\n",
       "      <td>256 GB</td>\n",
       "      <td>NaN</td>\n",
       "      <td>4 GB</td>\n",
       "      <td>DOS</td>\n",
       "      <td>No</td>\n",
       "      <td>39.62 cm (15.6 Inch)</td>\n",
       "      <td>1366 x 768 Pixels</td>\n",
       "      <td>2.5 Kg</td>\n",
       "      <td>₹22,490</td>\n",
       "    </tr>\n",
       "  </tbody>\n",
       "</table>\n",
       "</div>"
      ],
      "text/plain": [
       "   id      Brand                   Type  \\\n",
       "0   1       ACER          Gaming Laptop   \n",
       "1   2  REDMIBOOK  Thin and Light Laptop   \n",
       "2   3       ACER          Gaming Laptop   \n",
       "3   4       ASUS  Thin and Light Laptop   \n",
       "4   5         HP               Notebook   \n",
       "\n",
       "                                               Suits                 CPUbrand  \\\n",
       "0                                             Gaming   AMD Ryzen 5 Hexa Core    \n",
       "1                          Processing & Multitasking  Intel Core i3 11th Gen    \n",
       "2  Entertainment, Everyday Use, Gaming, Performan...   AMD Ryzen 5 Hexa Core    \n",
       "3                          Processing & Multitasking  Intel Core i3 10th Gen    \n",
       "4                                       Everyday Use    AMD Athlon Dual Core    \n",
       "\n",
       "    HDD     SSD                 GPUbrand    RAM               OS Touchscreen  \\\n",
       "0  None  512 GB  NVIDIA GeForce GTX 1650   8 GB  Windows 11 Home          No   \n",
       "1  None  256 GB     Intel Integrated UHD   8 GB  Windows 11 Home          No   \n",
       "2  None  512 GB  NVIDIA GeForce GTX 1650  16 GB  Windows 11 Home          No   \n",
       "3  None  512 GB     Intel Integrated UHD   8 GB  Windows 11 Home          No   \n",
       "4  None  256 GB                      NaN   4 GB              DOS          No   \n",
       "\n",
       "             ScreenSize         Resolution   Weight    Price  \n",
       "0  39.62 cm (15.6 inch)  1920 x 1080 Pixel  2.15 kg  ₹45,990  \n",
       "1  39.62 cm (15.6 inch)  1920 x 1080 Pixel   1.8 kg  ₹29,999  \n",
       "2  39.62 cm (15.6 Inch)  1920 x 1080 Pixel  2.15 kg  ₹49,990  \n",
       "3  39.62 cm (15.6 inch)  1920 x 1080 Pixel  1.80 kg  ₹35,990  \n",
       "4  39.62 cm (15.6 Inch)  1366 x 768 Pixels   2.5 Kg  ₹22,490  "
      ]
     },
     "execution_count": 25,
     "metadata": {},
     "output_type": "execute_result"
    }
   ],
   "source": [
    "df.head()"
   ]
  },
  {
   "cell_type": "code",
   "execution_count": 26,
   "id": "675a1d09",
   "metadata": {},
   "outputs": [],
   "source": [
    "# pd.set_option(\"display.max_rows\", 200)"
   ]
  },
  {
   "cell_type": "code",
   "execution_count": 27,
   "id": "4f4b390d",
   "metadata": {
    "scrolled": false
   },
   "outputs": [],
   "source": [
    "def getres(res):\n",
    "    resX = \"\"\n",
    "    resY = \"\"\n",
    "    \n",
    "    cal_res = re.findall(\"(?:[0-9]{4}|[0-9]{3})\", res)\n",
    "            \n",
    "    if(len(cal_res) == 1): cal_res.append(np.nan)\n",
    "        \n",
    "    return cal_res[0],cal_res[1]\n",
    "\n",
    "def getsize(sze):\n",
    "    cal_sze = re.findall('\\d+\\.?\\d*', sze)\n",
    "    inch_val = float(cal_sze[1])\n",
    "    \n",
    "    return inch_val\n",
    "\n",
    "def getOS(os):\n",
    "    if \"Windows\" in os: return \"Windows\"\n",
    "    elif \"Mac\" in os : return \"Mac\"\n",
    "    else: return \"Linux/Others\"\n",
    "    \n",
    "def getCPU(cpu):\n",
    "    if \"Intel\" in cpu: return \"Intel\"\n",
    "    elif \"AMD\" in cpu: return \"AMD\"\n",
    "    else: return \"Others\"\n",
    "    \n",
    "def getGPU(gpu):\n",
    "    if \"Intel\" in gpu: return \"Intel\"\n",
    "    elif \"AMD\" in gpu: return \"AMD\"\n",
    "    elif \"NVIDIA\" in gpu: return \"NVIDIA\"\n",
    "    elif \"None\" in gpu: return \"None\"\n",
    "    else: return \"Others\"\n",
    "    \n",
    "def getType(laptop):\n",
    "    if \"Gaming\" in laptop: return \"Gaming\"\n",
    "    elif \"Thin\" in laptop: return \"Ultraportable\"\n",
    "    else: return \"Notebook\""
   ]
  },
  {
   "cell_type": "code",
   "execution_count": 28,
   "id": "249c6bbc",
   "metadata": {},
   "outputs": [],
   "source": [
    "# Data preparation\n",
    "\n",
    "# ==== Brand ====\n",
    "v = df[['Brand']]\n",
    "df = df[v.replace(v.stack().value_counts()).gt(20).all(1)]\n",
    "\n",
    "# ==== Type ====\n",
    "df['Type'] = df['Type'].apply(lambda x : getType(x))\n",
    "\n",
    "# ==== Weight ====\n",
    "df['Weight'] = df['Weight'].apply(lambda x : x.split()[0])\n",
    "df['Weight'] = df['Weight'].apply(lambda x : x.split('$$')[0])\n",
    "df['Weight'] = df['Weight'].apply(lambda x : x.replace(',','.'))\n",
    "df['Weight'] = df['Weight'].astype(float)\n",
    "\n",
    "# ==== Resolution ====\n",
    "df['resX'] = df.Resolution.apply(lambda x : getres(x)[0])\n",
    "df['resY'] = df.Resolution.apply(lambda x : getres(x)[1])\n",
    "\n",
    "df['resX'] = df.resX.dropna()\n",
    "df['resY'] = df.resY.dropna()\n",
    "df['resX'] = df['resX'].astype(float)\n",
    "df['resY'] = df['resY'].astype(float)\n",
    "\n",
    "df.drop(['Resolution'], axis = 1, inplace = True)\n",
    "\n",
    "# ==== ScreenSize ====\n",
    "df['ScreenSize'] = df['ScreenSize'].apply(lambda x : getsize(x))\n",
    "\n",
    "# ==== OS ====\n",
    "df['OS'] = df['OS'].apply(lambda x : getOS(x))\n",
    "\n",
    "# ==== RAM ====\n",
    "df['RAM'] = df['RAM'].apply(lambda x : int(x.split(\" \")[0]))\n",
    "\n",
    "# ==== Price ====\n",
    "df['Price'] = df['Price'].apply(lambda x : int((x.replace(',',''))[1:]))\n",
    "\n",
    "# ==== CPU ====\n",
    "df['CPUbrand'] = df['CPUbrand'].apply(lambda x : getCPU(x))\n",
    "\n",
    "# ==== GPU ====\n",
    "df['GPUbrand'] = df['GPUbrand'].fillna('None')\n",
    "df['GPUbrand'] = df['GPUbrand'].apply(lambda x : getGPU(x))\n",
    "\n",
    "# ==== Unnecessary columns ====\n",
    "df.drop(['Suits', 'HDD'], axis = 1, inplace = True)"
   ]
  },
  {
   "cell_type": "code",
   "execution_count": 29,
   "id": "daf9e11a",
   "metadata": {},
   "outputs": [],
   "source": [
    "# Task 1 : Apply the qcut function to dataset\n",
    "df['Weight'] = pd.qcut(df['Weight'], q = 3, labels = ['Light', 'Medium', 'Heavy'])"
   ]
  },
  {
   "cell_type": "code",
   "execution_count": 30,
   "id": "e0dd4d2b",
   "metadata": {},
   "outputs": [
    {
     "data": {
      "text/plain": [
       "Light     312\n",
       "Medium    309\n",
       "Heavy     294\n",
       "Name: Weight, dtype: int64"
      ]
     },
     "execution_count": 30,
     "metadata": {},
     "output_type": "execute_result"
    }
   ],
   "source": [
    "df.Weight.value_counts()"
   ]
  },
  {
   "cell_type": "code",
   "execution_count": 31,
   "id": "ba5278a6",
   "metadata": {},
   "outputs": [
    {
     "data": {
      "image/png": "[encoded data removed]",
      "text/plain": [
       "<Figure size 1440x504 with 2 Axes>"
      ]
     },
     "metadata": {
      "needs_background": "light"
     },
     "output_type": "display_data"
    }
   ],
   "source": [
    "# Task 2 : Remove Outliers\n",
    "\n",
    "fig, axs = plt.subplots(ncols=2, figsize = (20,7))\n",
    "\n",
    "sns.boxplot(data = df['RAM'], ax = axs[0]).set_title('RAM')\n",
    "df = df[df['RAM'] != 64]\n",
    "\n",
    "sns.boxplot(data = df['ScreenSize'], ax = axs[1]).set_title('Screen Size')\n",
    "df = df[df['ScreenSize'] != 35.00]"
   ]
  },
  {
   "cell_type": "code",
   "execution_count": 32,
   "id": "7d104e08",
   "metadata": {},
   "outputs": [],
   "source": [
    "# Task 3 : Combining two/more columns to make a feature\n",
    "df['PPI'] = np.sqrt(df['resX'] ** 2 + df['resY'] ** 2)/(df['ScreenSize'])\n",
    "df.drop(['resX', 'resY', 'ScreenSize'], axis = 1, inplace = True)\n",
    "df.PPI.fillna(df.PPI.mean(), inplace = True)"
   ]
  },
  {
   "cell_type": "code",
   "execution_count": 33,
   "id": "de765f3c",
   "metadata": {},
   "outputs": [],
   "source": [
    "df.to_csv('Scraper-Data-Clean.csv')"
   ]
  }
 ],
 "metadata": {
  "kernelspec": {
   "display_name": "Python 3 (ipykernel)",
   "language": "python",
   "name": "python3"
  },
  "language_info": {
   "codemirror_mode": {
    "name": "ipython",
    "version": 3
   },
   "file_extension": ".py",
   "mimetype": "text/x-python",
   "name": "python",
   "nbconvert_exporter": "python",
   "pygments_lexer": "ipython3",
   "version": "3.10.5"
  }
 },
 "nbformat": 4,
 "nbformat_minor": 5
}
